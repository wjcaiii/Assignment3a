{
 "cells": [
  {
   "cell_type": "code",
   "execution_count": 3,
   "id": "69b6fc34",
   "metadata": {},
   "outputs": [],
   "source": [
    "import pandas as pd"
   ]
  },
  {
   "cell_type": "markdown",
   "id": "70b514b9",
   "metadata": {},
   "source": [
    "First, we need to change Pandas' default display settings to show more rows or columns."
   ]
  },
  {
   "cell_type": "code",
   "execution_count": 4,
   "id": "045467bf",
   "metadata": {},
   "outputs": [],
   "source": [
    "pd.options.display.max_rows = 1200\n",
    "pd.options.display.max_columns = 30"
   ]
  },
  {
   "cell_type": "code",
   "execution_count": 5,
   "id": "25107dd2",
   "metadata": {},
   "outputs": [],
   "source": [
    "stress_df = pd.read_csv(\"C:/Users/14359/Desktop/Collecting data/StressLevelDataset.csv\", delimiter=\",\", encoding='utf-8')"
   ]
  },
  {
   "cell_type": "markdown",
   "id": "a800d156",
   "metadata": {},
   "source": [
    "## Research Question 1: Which factor has the greatest impact on depression?"
   ]
  },
  {
   "cell_type": "markdown",
   "id": "46deb0ed",
   "metadata": {},
   "source": [
    "First, we establish an empty dictionary. Then, we use for loop to iterate every column in the dataset and calculate its correlation coefficient with the depression column. The results will be appended to the empty dictionary. At last, we turn the dictionary into a Series and sort the values from the highest to the lowest. The negative correlation means when one variable increases, the other tends to decrease. The negative value does not represent that it is lower than 0. The element with the highest value (whether it's positive or negative) will be the final answer of our research question.(answer: stress_level)"
   ]
  },
  {
   "cell_type": "code",
   "execution_count": 13,
   "id": "31830efb",
   "metadata": {},
   "outputs": [
    {
     "data": {
      "text/plain": [
       "stress_level                    0.734379\n",
       "future_career_concerns          0.706561\n",
       "anxiety_level                   0.694340\n",
       "bullying                        0.665790\n",
       "headache                        0.657700\n",
       "extracurricular_activities      0.648551\n",
       "peer_pressure                   0.635544\n",
       "mental_health_history           0.615882\n",
       "study_load                      0.602498\n",
       "noise_level                     0.566250\n",
       "breathing_problem               0.522540\n",
       "blood_pressure                  0.436084\n",
       "living_conditions              -0.530351\n",
       "basic_needs                    -0.608776\n",
       "social_support                 -0.617972\n",
       "safety                         -0.625857\n",
       "academic_performance           -0.633174\n",
       "teacher_student_relationship   -0.673853\n",
       "sleep_quality                  -0.693161\n",
       "self_esteem                    -0.699602\n",
       "dtype: float64"
      ]
     },
     "execution_count": 13,
     "metadata": {},
     "output_type": "execute_result"
    }
   ],
   "source": [
    "corr_co={}\n",
    "for column in stress_df:\n",
    "    if column not in corr_co and column != 'depression':\n",
    "        corr_co[column]=stress_df['depression'].corr(stress_df[column])\n",
    "corr_final=pd.Series(corr_co).sort_values(ascending=False)\n",
    "corr_final"
   ]
  },
  {
   "cell_type": "markdown",
   "id": "a9dc12dc",
   "metadata": {},
   "source": [
    "## Research Question 2: Which grade in depression column does most students have?"
   ]
  },
  {
   "cell_type": "markdown",
   "id": "2b4f4f83",
   "metadata": {},
   "source": [
    "First, we need to choose the depression column and count the number of each grade with the Counter() function. Then, we turn the dictionary we get from the first step into a Series and sort the values. At last, we display the result through the barplot. (answer: 10)"
   ]
  },
  {
   "cell_type": "code",
   "execution_count": 39,
   "id": "c887d500",
   "metadata": {},
   "outputs": [
    {
     "data": {
      "text/plain": [
       "<Axes: >"
      ]
     },
     "execution_count": 39,
     "metadata": {},
     "output_type": "execute_result"
    },
    {
     "data": {
      "image/png": "[encoded data removed]",
      "text/plain": [
       "<Figure size 640x480 with 1 Axes>"
      ]
     },
     "metadata": {},
     "output_type": "display_data"
    }
   ],
   "source": [
    "from collections import Counter\n",
    "dep=stress_df['depression']\n",
    "dep_count=Counter(dep)\n",
    "dep_final=pd.Series(dep_count).sort_values(ascending=False)\n",
    "dep_final.plot(kind=\"bar\")"
   ]
  },
  {
   "cell_type": "markdown",
   "id": "31e87c49",
   "metadata": {},
   "source": [
    "## Research Question 3: What is the data distribution of the depression column?"
   ]
  },
  {
   "cell_type": "markdown",
   "id": "e0eaa80e",
   "metadata": {},
   "source": [
    "We need to select the depression column and use a histgram to show the data distribution."
   ]
  },
  {
   "cell_type": "code",
   "execution_count": 50,
   "id": "4e1294ce",
   "metadata": {},
   "outputs": [
    {
     "data": {
      "text/plain": [
       "<Axes: >"
      ]
     },
     "execution_count": 50,
     "metadata": {},
     "output_type": "execute_result"
    },
    {
     "data": {
      "image/png": "[encoded data removed]",
      "text/plain": [
       "<Figure size 640x480 with 1 Axes>"
      ]
     },
     "metadata": {},
     "output_type": "display_data"
    }
   ],
   "source": [
    "dep=stress_df['depression']\n",
    "dep.hist()"
   ]
  },
  {
   "cell_type": "code",
   "execution_count": null,
   "id": "6ea757d9",
   "metadata": {},
   "outputs": [],
   "source": []
  }
 ],
 "metadata": {
  "kernelspec": {
   "display_name": "Python 3 (ipykernel)",
   "language": "python",
   "name": "python3"
  },
  "language_info": {
   "codemirror_mode": {
    "name": "ipython",
    "version": 3
   },
   "file_extension": ".py",
   "mimetype": "text/x-python",
   "name": "python",
   "nbconvert_exporter": "python",
   "pygments_lexer": "ipython3",
   "version": "3.11.4"
  }
 },
 "nbformat": 4,
 "nbformat_minor": 5
}
